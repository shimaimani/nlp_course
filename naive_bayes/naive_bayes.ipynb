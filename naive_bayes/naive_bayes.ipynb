{
 "cells": [
  {
   "cell_type": "markdown",
   "metadata": {},
   "source": [
    "In this notebook I will use Naive Bayes for sentiment analysis of tweets.\n",
    "\n",
    "Basically we want to compute P(class|sentence) = P(sentence|class) * P(class) / P(sentence)\n",
    "\n",
    "P(sentence | class) = P(word1|class) * P(word2 | class) * ...\n",
    "\n",
    "We should go through 5 steps:\n",
    "\n",
    "- get the data\n",
    "- preprocessed the data\n",
    "- compute freq(w, class)\n",
    "- Get P(word | neg) and P(word | pos)\n",
    "- compute log of bayes rule"
   ]
  },
  {
   "cell_type": "code",
   "execution_count": 2,
   "metadata": {},
   "outputs": [],
   "source": [
    "from utils import process_tweets, build_freqs\n",
    "from nltk.corpus import stopwords, twitter_samples\n",
    "import numpy as np\n",
    "import pandas as pd\n",
    "import nltk\n",
    "import string\n",
    "from nltk.tokenize import TweetTokenizer\n"
   ]
  },
  {
   "cell_type": "code",
   "execution_count": null,
   "metadata": {},
   "outputs": [],
   "source": [
    "# in the sentiment analysis notebook I go through this step by step"
   ]
  },
  {
   "cell_type": "code",
   "execution_count": 3,
   "metadata": {},
   "outputs": [
    {
     "name": "stderr",
     "output_type": "stream",
     "text": [
      "[nltk_data] Downloading package twitter_samples to\n",
      "[nltk_data]     /Users/shimaimani/nltk_data...\n",
      "[nltk_data]   Package twitter_samples is already up-to-date!\n"
     ]
    },
    {
     "data": {
      "text/plain": [
       "True"
      ]
     },
     "execution_count": 3,
     "metadata": {},
     "output_type": "execute_result"
    }
   ],
   "source": [
    "nltk.download('twitter_samples')"
   ]
  },
  {
   "cell_type": "code",
   "execution_count": 4,
   "metadata": {},
   "outputs": [],
   "source": [
    "all_positive_tweets = twitter_samples.strings('positive_tweets.json')\n",
    "all_negative_tweets = twitter_samples.strings('negative_tweets.json')"
   ]
  },
  {
   "cell_type": "markdown",
   "metadata": {},
   "source": [
    "divide data to test and train"
   ]
  },
  {
   "cell_type": "code",
   "execution_count": 6,
   "metadata": {},
   "outputs": [],
   "source": [
    "test_pos = all_positive_tweets[4000:]\n",
    "train_pos = all_positive_tweets[:4000]\n",
    "test_neg = all_negative_tweets[4000:]\n",
    "train_neg = all_negative_tweets[:4000]\n"
   ]
  },
  {
   "cell_type": "code",
   "execution_count": 16,
   "metadata": {},
   "outputs": [],
   "source": [
    "train_x = train_pos + train_neg\n",
    "test_x = test_pos + test_neg\n",
    "\n",
    "train_y = np.append(np.ones((len(train_pos), 1)) , np.zeros((len(train_neg), 1)))\n",
    "test_y = np.append(np.ones((len(test_pos), 1)) , np.zeros((len(test_neg), 1)))"
   ]
  },
  {
   "cell_type": "code",
   "execution_count": 18,
   "metadata": {},
   "outputs": [],
   "source": [
    "\n",
    "freqs = build_freqs(train_x, train_y)"
   ]
  },
  {
   "cell_type": "code",
   "execution_count": 25,
   "metadata": {},
   "outputs": [
    {
     "data": {
      "text/plain": [
       "(9, 27)"
      ]
     },
     "execution_count": 25,
     "metadata": {},
     "output_type": "execute_result"
    }
   ],
   "source": [
    "freqs[('wrong', 1.0)], freqs[('wrong', 0.0)]"
   ]
  },
  {
   "cell_type": "code",
   "execution_count": 27,
   "metadata": {},
   "outputs": [
    {
     "data": {
      "text/plain": [
       "defaultdict(int,\n",
       "            {('happi', 1): 1, ('trick', 0): 1, ('sad', 0): 1, ('tire', 0): 2})"
      ]
     },
     "execution_count": 27,
     "metadata": {},
     "output_type": "execute_result"
    }
   ],
   "source": [
    "result = {}\n",
    "tweets = ['i am happy', 'i am tricked', 'i am sad', 'i am tired', 'i am tired']\n",
    "ys = [1, 0, 0, 0, 0]\n",
    "build_freqs(tweets, ys)"
   ]
  },
  {
   "cell_type": "markdown",
   "metadata": {},
   "source": [
    "Now we will calculate:\n",
    "\n",
    "P(class|sentence) = P(sentence|class) * P(class) / P(sentence)\n",
    "\n",
    "but we will calculate P(pos | sentence) / P(neg | sentence)\n",
    "\n",
    "P(pos | sentence) / P(neg | sentence) = P(sentence | pos) * P(pos) /(P(sentence | neg) * P(neg))\n",
    "\n",
    "and since here P(pos) = P(neg)\n",
    "\n",
    "P(pos | sentence) / P(neg | sentence) = P(sentence | pos) /P(sentence | neg) \n",
    "\n",
    "and P(word | pos) = freq / pos_volume\n",
    "\n",
    "but we will do laplacian smoothing which is P(word|pos) = (freq + 1) / (pos_volume + V)\n",
    "where V is unique words"
   ]
  },
  {
   "cell_type": "code",
   "execution_count": 71,
   "metadata": {},
   "outputs": [],
   "source": [
    "def train_naive_bayes(freqs, train_x, train_y):\n",
    "    \"\"\"\n",
    "    Input: \n",
    "        freqs, train_x and train_y\n",
    "    Output:\n",
    "        logprior\n",
    "        loglikelihood: this is a dictionary with a key equal to word and the value is P(pos|word)/P(neg|word)\n",
    "    \n",
    "    \"\"\"\n",
    "    V = len(freqs)\n",
    "    pos_volume = 0\n",
    "    neg_volume = 0\n",
    "    loglikelihood = {}\n",
    "\n",
    "    for (key, value) in freqs.items():\n",
    "        if type(key) == tuple:\n",
    "            if key[1] == 1.0:\n",
    "                pos_volume += value\n",
    "            else:\n",
    "                neg_volume += value\n",
    "            loglikelihood[key[0]] = 0\n",
    "    V = len(loglikelihood)\n",
    "    for key in loglikelihood:\n",
    "        pos = (freqs[(key, 1.0)] + 1) / (pos_volume + V)\n",
    "        neg = (freqs[(key, 0.0)] + 1) / (neg_volume + V)\n",
    "        loglikelihood[key] = np.log(pos/neg)\n",
    "    return loglikelihood\n",
    "        "
   ]
  },
  {
   "cell_type": "code",
   "execution_count": 73,
   "metadata": {},
   "outputs": [],
   "source": [
    "loglikelihood = train_naive_bayes(freqs, train_x, train_y)"
   ]
  },
  {
   "cell_type": "code",
   "execution_count": 74,
   "metadata": {},
   "outputs": [],
   "source": [
    "def naive_bayes_predict(tweet, loglikelihood):\n",
    "    prob = 0\n",
    "    for word in process_tweets(tweet):\n",
    "        prob += loglikelihood[word]\n",
    "    return prob"
   ]
  },
  {
   "cell_type": "code",
   "execution_count": 75,
   "metadata": {},
   "outputs": [
    {
     "name": "stdout",
     "output_type": "stream",
     "text": [
      "The expected output is 1.5741937653457425\n"
     ]
    }
   ],
   "source": [
    "my_tweet = 'She smiled.'\n",
    "p = naive_bayes_predict(my_tweet, loglikelihood)\n",
    "print('The expected output is', p)"
   ]
  },
  {
   "cell_type": "code",
   "execution_count": 90,
   "metadata": {},
   "outputs": [],
   "source": [
    "def test_naive_bayes(test_x, test_y, loglikelihood):\n",
    "    y_hat = []\n",
    "    for tweet in test_x:\n",
    "        prob = 0\n",
    "        for word in process_tweets(tweet):\n",
    "            if word in loglikelihood:\n",
    "                prob += loglikelihood[word]\n",
    "            else:\n",
    "                prob += 0\n",
    "        if prob > 0:\n",
    "            prob = 1\n",
    "        else:\n",
    "            prob = 0\n",
    "        y_hat.append(prob)\n",
    "  \n",
    "    accuracy = (y_hat == test_y).sum()/len(test_y)\n",
    "    return accuracy"
   ]
  },
  {
   "cell_type": "code",
   "execution_count": 91,
   "metadata": {},
   "outputs": [
    {
     "data": {
      "text/plain": [
       "0.994"
      ]
     },
     "execution_count": 91,
     "metadata": {},
     "output_type": "execute_result"
    }
   ],
   "source": [
    "test_naive_bayes(test_x, test_y, loglikelihood)"
   ]
  },
  {
   "cell_type": "code",
   "execution_count": null,
   "metadata": {},
   "outputs": [],
   "source": []
  }
 ],
 "metadata": {
  "kernelspec": {
   "display_name": "Python 3",
   "language": "python",
   "name": "python3"
  },
  "language_info": {
   "codemirror_mode": {
    "name": "ipython",
    "version": 3
   },
   "file_extension": ".py",
   "mimetype": "text/x-python",
   "name": "python",
   "nbconvert_exporter": "python",
   "pygments_lexer": "ipython3",
   "version": "3.6.8"
  }
 },
 "nbformat": 4,
 "nbformat_minor": 2
}
